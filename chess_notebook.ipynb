{
 "cells": [
  {
   "cell_type": "code",
   "execution_count": 1,
   "id": "78599e8a-fe4a-4671-b986-ee238c3d6b77",
   "metadata": {},
   "outputs": [],
   "source": [
    "import pandas as pd"
   ]
  },
  {
   "cell_type": "markdown",
   "id": "61d20ff6-8acd-4eb7-8d4f-cc205a0d7217",
   "metadata": {},
   "source": [
    "# Functions"
   ]
  },
  {
   "cell_type": "code",
   "execution_count": 2,
   "id": "c7517b80-24b8-43a4-a706-6ccc7a7bfe42",
   "metadata": {},
   "outputs": [],
   "source": [
    "def create_empty_board(seperator=\".\"):\n",
    "    # dicting a zip of a-h and 8 empty dicts\n",
    "    empty_board = dict(zip(list(\"abcdefgh\".upper()), [{} for i in range(8)]))\n",
    "\n",
    "    # for 8 times row = 0-7  /  8 for the chess tile format\n",
    "    for row in range(8):\n",
    "\n",
    "        # for each key add the number: |i-8| 8 times\n",
    "        for key in empty_board.keys():\n",
    "            empty_board[key].update({abs(row-8): seperator})\n",
    "    \n",
    "    return empty_board"
   ]
  },
  {
   "cell_type": "code",
   "execution_count": 3,
   "id": "41140c1d-b371-4f47-a609-8f77023e6ea1",
   "metadata": {},
   "outputs": [],
   "source": [
    "# might not be necessary with a board class method\n",
    "def reset_board(board_variable):\n",
    "    board = board_variable\n",
    "    \n",
    "    board = create_empty_board()\n",
    "\n",
    "    for color in pieces_dict.values():\n",
    "        for types in color.values():\n",
    "            for piece in types:\n",
    "                board[piece.position[0]][piece.position[1]] = piece\n",
    "\n",
    "    return board"
   ]
  },
  {
   "cell_type": "code",
   "execution_count": 19,
   "id": "e0ea7525-fc7f-4414-b74f-159f10cddfd6",
   "metadata": {},
   "outputs": [],
   "source": [
    "def update_position(position, movement, board_instance, piece):\n",
    "    '''\n",
    "    position type: tuple (\"a\", 2)\n",
    "    movement type: tuple (2, 3)\n",
    "    => result would be ('c', 5)\n",
    "    \n",
    "    argument (move) takes the (dx, dy) \n",
    "    tuple from some movement method and uses it to calculate \n",
    "    the new position of the piece\n",
    "    \n",
    "    movement[0] = change in column\n",
    "    movement[1] = change in row\n",
    "    \n",
    "    function returns the new tuple\n",
    "    '''\n",
    "    board = board_instance\n",
    "    (dx, dy) = movement\n",
    "    (origin_x, origin_y) = position\n",
    "    \n",
    "    # new column calc\n",
    "    # have to get a list of the keys in board_\n",
    "    board_columns = list(board.data.keys())\n",
    "    \n",
    "    # convert given column to a list index and add the movement\n",
    "    og_x_value = board_columns.index(origin_x)\n",
    "    new_x_value = og_x_value + dx\n",
    "    \n",
    "    # convert new index back to the column name\n",
    "    new_column = board_columns[new_x_value]\n",
    "    \n",
    "    \n",
    "    # calc new row\n",
    "    new_row = origin_y + dy\n",
    "    \n",
    "    # adding restrictions for out-of bounds\n",
    "    if (new_column not in board_columns) or (new_row not in list(range(1,9))):\n",
    "        print(\"Out of Bounds\")\n",
    "        return (position)\n",
    "    \n",
    "    #TODO: (possibly) update postion for the board too\n",
    "    for col in board.data.items():\n",
    "        for row in col[1].items():\n",
    "            if row[1] == piece:\n",
    "                board.data[col[0]][row[0]] = board.separator\n",
    "                board.data[new_column][new_row] = piece\n",
    "                \n",
    "                \n",
    "    return (new_column, new_row)"
   ]
  },
  {
   "cell_type": "markdown",
   "id": "274b963c-33cb-4500-b007-9de61d1a5289",
   "metadata": {},
   "source": [
    "# Piece Classes"
   ]
  },
  {
   "cell_type": "code",
   "execution_count": 20,
   "id": "6a870797-6238-4bd5-a80c-a6876d9e99c9",
   "metadata": {},
   "outputs": [],
   "source": [
    "class Pawn:\n",
    "    piece_name = \"PAWN\"\n",
    "    \n",
    "    def __init__(self, column, color, position):\n",
    "        self.column = column.lower()\n",
    "        self.color = color.lower()\n",
    "        self.position = (position[0].upper(), position[1])\n",
    "        \n",
    "        # initial position might be useful to init the board\n",
    "        if self.color == \"white\":\n",
    "            self.start_position = (self.column, 2)\n",
    "        else:\n",
    "            self.start_position = (self.column, 7)\n",
    "        \n",
    "        \n",
    "        #self.update_board_data()\n",
    "        \n",
    "    # this is for debugging rather tan actual representation\n",
    "    def describe(self):\n",
    "        rep = f\"{self.column}-{self.piece_name}:\\n  |{self.color.upper()}\\n  |{self.position[0]}{self.position[1]}\"\n",
    "        print(rep)\n",
    "        return print(f\"  |{self}\")\n",
    "    \n",
    "#     # method to auto update inside move\n",
    "#     def update_board_data(self, seperator=\".\"):\n",
    "        \n",
    "#         for row, i in list(board_.items()):\n",
    "#             for col, e in list(i.items()):\n",
    "#                 if e == self:\n",
    "#                     board_[row][col] = seperator\n",
    "        \n",
    "#         board_[self.position[0]][self.position[1]] = self\n",
    "#         return str(board_[self.position[0]][self.position[1]])\n",
    "    \n",
    "    \n",
    "    # trying to keep things specific to pawns below here\n",
    "    \n",
    "    def __repr__(self):\n",
    "        if self.color == \"white\":\n",
    "            return \"♙\"\n",
    "        if self.color == \"black\":\n",
    "            return \"♟︎\"\n",
    "    \n",
    "    def move(self, board_instance, move_choice=0):\n",
    "        \n",
    "        moves = [\"default\", \"two-space\", {\"take\": [\"L\", \"R\"]}]\n",
    "        choice = moves[move_choice]\n",
    "        \n",
    "        board = board_instance\n",
    "        \n",
    "        # before moving gotta delete position from board and after gotta update\n",
    "        old_position = self.position\n",
    "        \n",
    "        # TODO: integrate if can move restrictions\n",
    "        # TODO: integrate if initial, move 2\n",
    "        # TODO: maybe make a taking movement or define a new method remember en passant\n",
    "        \n",
    "        # moving one space\n",
    "        # set the self.position to the tuple output of update_position, given the column and row by self.position[0] & [1]\n",
    "        # using the indexing of position bc the position of the pawn might have a different column than its native col\n",
    "        if choice == \"default\":\n",
    "            if self.color == \"white\":\n",
    "                self.position = update_position(self.position, (0,1), board_instance=board, piece=self)\n",
    "            else:\n",
    "                self.position = update_position(self.position, (0,-1), board_instance=board, piece=self)\n",
    "        \n",
    "        # before returning the position need to check to see if promotion is possible\n",
    "        # TODO: create a promotion function\n",
    "        if (self.color == \"white\" and self.position[1] == 8):\n",
    "            print(\"no promotions yet\")\n",
    "        if (self.color == \"black\" and self.position[1] == 1):\n",
    "            print(\"make a promotions method\")\n",
    "            \n",
    "#         self.update_board_data(old_position)\n",
    "        \n",
    "        return self, self.position"
   ]
  },
  {
   "cell_type": "code",
   "execution_count": 6,
   "id": "df6a05e2-e658-4f35-878a-83c45015e6e6",
   "metadata": {},
   "outputs": [],
   "source": [
    "class Rook:\n",
    "    \n",
    "    def __init__(self, column, color, position):\n",
    "        self.column = column.upper()\n",
    "        self.color = color.lower()\n",
    "        self.position = (position[0].upper(), position[1])\n",
    "    \n",
    "    def __repr__(self):\n",
    "        if self.color == \"white\":\n",
    "            return \"♖\"\n",
    "        if self.color == \"black\":\n",
    "            return \"♜\""
   ]
  },
  {
   "cell_type": "code",
   "execution_count": 7,
   "id": "ac32153d-1cd2-4d90-b308-4153995422ed",
   "metadata": {},
   "outputs": [],
   "source": [
    "class Knight:\n",
    "    \n",
    "    def __init__(self, column, color, position):\n",
    "        self.column = column.upper()\n",
    "        self.color = color.lower()\n",
    "        self.position = (position[0].upper(), position[1])\n",
    "    \n",
    "    def __repr__(self):\n",
    "        if self.color == \"white\":\n",
    "            return \"♘\"\n",
    "        if self.color == \"black\":\n",
    "            return \"♞\""
   ]
  },
  {
   "cell_type": "code",
   "execution_count": 8,
   "id": "466701d0-07fe-47ea-824f-64850f2b1abe",
   "metadata": {},
   "outputs": [],
   "source": [
    "class Bishop:\n",
    "    \n",
    "    def __init__(self, column, color, position):\n",
    "        self.column = column.upper()\n",
    "        self.color = color.lower()\n",
    "        self.position = (position[0].upper(), position[1])\n",
    "    \n",
    "    def __repr__(self):\n",
    "        if self.color == \"white\":\n",
    "            return \"♗\"\n",
    "        if self.color == \"black\":\n",
    "            return \"♝\""
   ]
  },
  {
   "cell_type": "code",
   "execution_count": 9,
   "id": "f868cc6b-99d8-482e-b352-19cddd02d706",
   "metadata": {},
   "outputs": [],
   "source": [
    "class King:\n",
    "    \n",
    "    def __init__(self, column, color, position):\n",
    "        self.column = column.upper()\n",
    "        self.color = color.lower()\n",
    "        self.position = (position[0].upper(), position[1])\n",
    "    \n",
    "    def __repr__(self):\n",
    "        if self.color == \"white\":\n",
    "            return \"♔\"\n",
    "        if self.color == \"black\":\n",
    "            return \"♚\""
   ]
  },
  {
   "cell_type": "code",
   "execution_count": 10,
   "id": "7e6800e3-32bb-4fa7-8b4d-98150c36552a",
   "metadata": {},
   "outputs": [],
   "source": [
    "class Queen:\n",
    "    \n",
    "    def __init__(self, column, color, position):\n",
    "        self.column = column.upper()\n",
    "        self.color = color.lower()\n",
    "        self.position = (position[0].upper(), position[1])\n",
    "    \n",
    "    def __repr__(self):\n",
    "        if self.color == \"white\":\n",
    "            return \"♕\"\n",
    "        if self.color == \"black\":\n",
    "            return \"♛\""
   ]
  },
  {
   "cell_type": "markdown",
   "id": "36609af6-b4ce-4216-b3a7-b67a47421a29",
   "metadata": {},
   "source": [
    "## experimental"
   ]
  },
  {
   "cell_type": "code",
   "execution_count": 11,
   "id": "f64f6782-7504-4f65-a1bb-776e47da8ccf",
   "metadata": {},
   "outputs": [],
   "source": [
    "# this class will update the board and show the user a lot better than json\n",
    "class Board:\n",
    "    \n",
    "    def __init__(self, data, separator=\".\"):\n",
    "        \n",
    "        self.separator = separator\n",
    "        \n",
    "        if data:\n",
    "            self.data = data.copy()\n",
    "        else:\n",
    "            self.data = create_empty_board()\n",
    "   \n",
    "    def __repr__(self):\n",
    "        \n",
    "        # horizontal = all the column letters\n",
    "        horizontal = self.data.keys()\n",
    "        grid = []\n",
    "        \n",
    "        # count backwards 8-1 thru rows\n",
    "        for row in range(8, 0, -1):\n",
    "            x=[]\n",
    "            \n",
    "            # for each column letter...\n",
    "            for column in horizontal:\n",
    "                \n",
    "                # create a block of each space                 \n",
    "                block = f\" {self.data[column][row]} \"     # format the look of the board\n",
    "                x.append(block)                 # also add the block to the row list\n",
    "                \n",
    "            x.append(\" \")                       # adds the extra bar at the end of each row\n",
    "            grid.append(\"\".join(x))             # appending the joined columns for each row\n",
    "        grid = \"\\n\".join(grid)                  # joining the rows\n",
    "        \n",
    "        return grid\n",
    "    \n",
    "#     def initialize_board(self.data):\n",
    "        \n",
    "    \n",
    "    \n",
    "    \n",
    "#     def clear_board(self):\n",
    "#         self.data = "
   ]
  },
  {
   "cell_type": "code",
   "execution_count": 12,
   "id": "7a7d1c5c-5e4a-4311-bc69-06d9bdc5e0e7",
   "metadata": {},
   "outputs": [],
   "source": [
    "# initializes the pieces\n",
    "# white pieces\n",
    "a_w = Pawn(\"A\", \"white\", (\"A\", 2))\n",
    "b_w = Pawn(\"B\", \"white\", (\"B\", 2))\n",
    "c_w = Pawn(\"C\", \"white\", (\"C\", 2))\n",
    "d_w = Pawn(\"D\", \"white\", (\"D\", 2))\n",
    "e_w = Pawn(\"E\", \"white\", (\"E\", 2))\n",
    "f_w = Pawn(\"F\", \"white\", (\"F\", 2))\n",
    "g_w = Pawn(\"G\", \"white\", (\"G\", 2))\n",
    "h_w = Pawn(\"H\", \"white\", (\"H\", 2))\n",
    "aR_w = Rook(\"A\", \"white\", (\"A\", 1))\n",
    "hR_w = Rook(\"H\", \"white\", (\"H\", 1))\n",
    "bK_w = Knight(\"B\", \"white\", (\"B\", 1))\n",
    "gK_w = Knight(\"G\", \"white\", (\"G\", 1))\n",
    "cB_w = Bishop(\"C\", \"white\", (\"C\", 1))\n",
    "fB_w = Bishop(\"F\", \"white\", (\"F\", 1))\n",
    "Q_w = Queen(\"D\", \"white\", (\"D\", 1))\n",
    "K_w = King(\"E\", \"white\", (\"E\", 1))\n",
    "\n",
    "# black pieces\n",
    "a_b = Pawn(\"A\", \"black\", (\"A\", 7))\n",
    "b_b = Pawn(\"B\", \"black\", (\"B\", 7))\n",
    "c_b = Pawn(\"C\", \"black\", (\"C\", 7))\n",
    "d_b = Pawn(\"D\", \"black\", (\"D\", 7))\n",
    "e_b = Pawn(\"E\", \"black\", (\"E\", 7))\n",
    "f_b = Pawn(\"F\", \"black\", (\"F\", 7))\n",
    "g_b = Pawn(\"G\", \"black\", (\"G\", 7))\n",
    "h_b = Pawn(\"H\", \"black\", (\"H\", 7))\n",
    "aR_b = Rook(\"A\", \"black\", (\"A\", 8))\n",
    "hR_b = Rook(\"H\", \"black\", (\"H\", 8))\n",
    "bK_b = Knight(\"B\", \"black\", (\"B\", 8))\n",
    "gK_b = Knight(\"G\", \"black\", (\"G\", 8))\n",
    "cB_b =  Bishop(\"C\", \"black\", (\"C\", 8))\n",
    "fB_b =  Bishop(\"F\", \"black\", (\"F\", 8))\n",
    "Q_b = Queen(\"D\", \"black\", (\"D\", 8))\n",
    "K_b = King(\"E\", \"black\", (\"E\", 8))\n",
    "\n",
    "# making a list of all the pieces to easily traverse them\n",
    "pieces_dict = {\n",
    "    \"white\": {\n",
    "        \"pawn\": [a_w, b_w, c_w, d_w, e_w, f_w, g_w, h_w],\n",
    "        \"rook\": [aR_w, hR_w],\n",
    "        \"knight\": [bK_w, gK_w],\n",
    "        \"bishop\": [cB_w, fB_w],\n",
    "        \"special\": [Q_w, K_w]\n",
    "    },\n",
    "    \"black\": {\n",
    "        \"pawn\": [a_b, b_b, c_b, d_b, e_b, f_b, g_b, h_b],\n",
    "        \"rook\": [aR_b, hR_b],\n",
    "        \"knight\": [bK_b, gK_b],\n",
    "        \"bishop\": [cB_b, fB_b],\n",
    "        \"special\": [Q_b, K_b]\n",
    "    }\n",
    "}"
   ]
  },
  {
   "cell_type": "code",
   "execution_count": null,
   "id": "4ee24cf5-a884-4a49-84f9-621875982236",
   "metadata": {},
   "outputs": [],
   "source": []
  },
  {
   "cell_type": "markdown",
   "id": "d17143ba-9469-4c57-8708-5b57b971e13c",
   "metadata": {},
   "source": [
    "## trying it out"
   ]
  },
  {
   "cell_type": "code",
   "execution_count": 13,
   "id": "662cc390-8329-47e4-ae86-84c5cc3e6008",
   "metadata": {},
   "outputs": [
    {
     "data": {
      "text/plain": [
       "{'white': {'pawn': [♙, ♙, ♙, ♙, ♙, ♙, ♙, ♙],\n",
       "  'rook': [♖, ♖],\n",
       "  'knight': [♘, ♘],\n",
       "  'bishop': [♗, ♗],\n",
       "  'special': [♕, ♔]},\n",
       " 'black': {'pawn': [♟︎, ♟︎, ♟︎, ♟︎, ♟︎, ♟︎, ♟︎, ♟︎],\n",
       "  'rook': [♜, ♜],\n",
       "  'knight': [♞, ♞],\n",
       "  'bishop': [♝, ♝],\n",
       "  'special': [♛, ♚]}}"
      ]
     },
     "execution_count": 13,
     "metadata": {},
     "output_type": "execute_result"
    }
   ],
   "source": [
    "pieces_dict"
   ]
  },
  {
   "cell_type": "code",
   "execution_count": 14,
   "id": "5b5b8bee-5e88-4147-b3ee-07a37202d992",
   "metadata": {},
   "outputs": [],
   "source": [
    "new = create_empty_board()\n",
    "new = reset_board(new)\n",
    "board1 = Board(new)"
   ]
  },
  {
   "cell_type": "code",
   "execution_count": 15,
   "id": "195f908a-ef09-483c-833f-730d07073759",
   "metadata": {},
   "outputs": [
    {
     "data": {
      "text/plain": [
       "{'A': {8: ♜, 7: ♟︎, 6: '.', 5: '.', 4: '.', 3: '.', 2: ♙, 1: ♖},\n",
       " 'B': {8: ♞, 7: ♟︎, 6: '.', 5: '.', 4: '.', 3: '.', 2: ♙, 1: ♘},\n",
       " 'C': {8: ♝, 7: ♟︎, 6: '.', 5: '.', 4: '.', 3: '.', 2: ♙, 1: ♗},\n",
       " 'D': {8: ♛, 7: ♟︎, 6: '.', 5: '.', 4: '.', 3: '.', 2: ♙, 1: ♕},\n",
       " 'E': {8: ♚, 7: ♟︎, 6: '.', 5: '.', 4: '.', 3: '.', 2: ♙, 1: ♔},\n",
       " 'F': {8: ♝, 7: ♟︎, 6: '.', 5: '.', 4: '.', 3: '.', 2: ♙, 1: ♗},\n",
       " 'G': {8: ♞, 7: ♟︎, 6: '.', 5: '.', 4: '.', 3: '.', 2: ♙, 1: ♘},\n",
       " 'H': {8: ♜, 7: ♟︎, 6: '.', 5: '.', 4: '.', 3: '.', 2: ♙, 1: ♖}}"
      ]
     },
     "execution_count": 15,
     "metadata": {},
     "output_type": "execute_result"
    }
   ],
   "source": [
    "board1.data"
   ]
  },
  {
   "cell_type": "code",
   "execution_count": 24,
   "id": "d347ba0a-7521-45a7-b101-d137207aade8",
   "metadata": {},
   "outputs": [
    {
     "data": {
      "text/plain": [
       "(♙, ('A', 5))"
      ]
     },
     "execution_count": 24,
     "metadata": {},
     "output_type": "execute_result"
    }
   ],
   "source": [
    "a_w.move(board1)"
   ]
  },
  {
   "cell_type": "code",
   "execution_count": 25,
   "id": "d9fa0f03-73f6-4cbf-b8c7-4645d8d94bbb",
   "metadata": {},
   "outputs": [
    {
     "name": "stdout",
     "output_type": "stream",
     "text": [
      "a-PAWN:\n",
      "  |WHITE\n",
      "  |A5\n",
      "  |♙\n"
     ]
    }
   ],
   "source": [
    "a_w.describe()"
   ]
  },
  {
   "cell_type": "code",
   "execution_count": 26,
   "id": "d34e13f3-c3c1-4cb2-92be-62f56a45c802",
   "metadata": {},
   "outputs": [
    {
     "data": {
      "text/plain": [
       " ♜  ♞  ♝  ♛  ♚  ♝  ♞  ♜  \n",
       " ♟︎  ♟︎  ♟︎  ♟︎  ♟︎  ♟︎  ♟︎  ♟︎  \n",
       " .  .  .  .  .  .  .  .  \n",
       " ♙  .  .  .  .  .  .  .  \n",
       " .  .  .  .  .  .  .  .  \n",
       " .  .  .  .  .  .  .  .  \n",
       " .  ♙  ♙  ♙  ♙  ♙  ♙  ♙  \n",
       " ♖  ♘  ♗  ♕  ♔  ♗  ♘  ♖  "
      ]
     },
     "execution_count": 26,
     "metadata": {},
     "output_type": "execute_result"
    }
   ],
   "source": [
    "board1"
   ]
  },
  {
   "cell_type": "code",
   "execution_count": null,
   "id": "c88a12d8-84c5-4595-824e-ba524b729a5c",
   "metadata": {},
   "outputs": [],
   "source": []
  }
 ],
 "metadata": {
  "kernelspec": {
   "display_name": "PythonData",
   "language": "python",
   "name": "pythondata"
  },
  "language_info": {
   "codemirror_mode": {
    "name": "ipython",
    "version": 3
   },
   "file_extension": ".py",
   "mimetype": "text/x-python",
   "name": "python",
   "nbconvert_exporter": "python",
   "pygments_lexer": "ipython3",
   "version": "3.7.10"
  }
 },
 "nbformat": 4,
 "nbformat_minor": 5
}
